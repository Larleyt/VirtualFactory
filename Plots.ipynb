{
 "cells": [
  {
   "cell_type": "code",
   "execution_count": 121,
   "metadata": {
    "collapsed": true
   },
   "outputs": [],
   "source": [
    "# coding=utf-8\n",
    "\n",
    "import os\n",
    "import pandas as pd\n",
    "import numpy as np\n",
    "import seaborn as sns"
   ]
  },
  {
   "cell_type": "code",
   "execution_count": 122,
   "metadata": {},
   "outputs": [],
   "source": [
    "def find_files(root_dir=None, prefix=None):\n",
    "    file_paths = []\n",
    "    \n",
    "    for root, dirs, files in os.walk(root_dir):\n",
    "        for name in files:\n",
    "            if name.decode(\"utf-8\").lower().startswith(prefix.lower()):\n",
    "                file_paths.append(os.path.join(root, name))\n",
    "    return file_paths"
   ]
  },
  {
   "cell_type": "code",
   "execution_count": 123,
   "metadata": {},
   "outputs": [],
   "source": [
    "def plot_plan(fpath):\n",
    "    df = pd.read_csv(\n",
    "        fpath, \n",
    "        header=[0,1,2], \n",
    "        index_col=0, \n",
    "        sep=\"\\t\",\n",
    "    )\n",
    "    grouped_by_order = df.groupby([(\n",
    "        \"Заказ\",\"Заказ\",\"Заказ\"\n",
    "    )])[(\"изготовлено\", \"маш.вр\", \"маш.вр\"),].apply(np.mean())\n",
    "    \n",
    "    return grouped_by_order.head()"
   ]
  },
  {
   "cell_type": "code",
   "execution_count": 254,
   "metadata": {},
   "outputs": [],
   "source": [
    "def preprocess_data(fpath):\n",
    "    df = pd.read_csv(\n",
    "        fpath,\n",
    "        header=[0,1,2],\n",
    "        index_col=0,\n",
    "        sep=\"\\t\",\n",
    "    )\n",
    "\n",
    "    def compute_m_time(time):\n",
    "        time = time.str.lstrip().str.rstrip()\n",
    "        hours_mins = time.str.extract(r'(\\d+[.,]?\\d*ч.?)*(\\d+[,.]?\\d*мин+.?)*')\n",
    "        hours_mins[0] = pd.to_numeric(hours_mins[0].str.replace(r'[^\\d]+[^,.]?', \"\")) * 60\n",
    "        hours_mins[1] = pd.to_numeric(hours_mins[1].str.replace(r'[^\\d]+[^,.]?', \"\"))\n",
    "        time = hours_mins.sum(axis=1, skipna=True)\n",
    "        print time[700:750]\n",
    "        time = time.replace(\"0.0\", np.nan)\n",
    "        return time\n",
    "\n",
    "    def compute_prep_time(time):\n",
    "        time = time.str.lstrip().str.rstrip()\n",
    "        hours_mins = time.str.extract(r'([\\d+д|\\d+дн|\\d+дн.)*(\\d+ч+.?)*')\n",
    "        #print hours_mins\n",
    "        # hours_mins[0] = pd.to_numeric(hours_mins[0].str.replace(r'[^\\d,]+', \"\")) * 60\n",
    "        # hours_mins[1] = pd.to_numeric(hours_mins[1].str.replace(r'[^\\d,]+', \"\"))\n",
    "        # time = hours_mins.sum(axis=1, skipna=True)\n",
    "        return time\n",
    "\n",
    "    m_time = df.loc[:,('изготовлено', 'маш.вр')].squeeze()\n",
    "    m_time = compute_m_time(m_time)\n",
    "\n",
    "    prep_time = df.loc[:,('изготовлено', 'подг.вр')].squeeze()\n",
    "    #print prep_time\n",
    "    #prep_time = compute_prep_time(prep_time)"
   ]
  },
  {
   "cell_type": "code",
   "execution_count": 255,
   "metadata": {},
   "outputs": [
    {
     "name": "stdout",
     "output_type": "stream",
     "text": [
      "700       0.0\n701       0.0\n702       0.0\n703       0.0\n704       0.0\n705       0.0\n706     120.0\n707     120.0\n708     120.0\n709       0.0\n710       0.0\n711       0.0\n712       0.0\n713       0.0\n714       0.0\n715       0.0\n716     300.0\n717       0.0\n718       0.0\n719    3960.0\n720     300.0\n721     480.0\n722     480.0\n723      50.0\n724      50.0\n725      50.0\n726     120.0\n727     120.0\n728     120.0\n729      15.0\n730      30.0\n731      30.0\n732       7.0\n733      15.0\n734       4.0\n735       5.0\n736     480.0\n737     120.0\n738     180.0\n739     120.0\n740     180.0\n741     120.0\n742     120.0\n743     180.0\n744     120.0\n745      60.0\n746     480.0\n747     120.0\n748     120.0\n749     120.0\ndtype: float64\n"
     ]
    },
    {
     "name": "stderr",
     "output_type": "stream",
     "text": [
      "/home/larleyt/anaconda2/lib/python2.7/site-packages/ipykernel/__main__.py:11: FutureWarning: currently extract(expand=None) means expand=False (return Index/Series/DataFrame) but in a future version of pandas this will be changed to expand=True (return DataFrame)\n"
     ]
    }
   ],
   "source": [
    "ROOT_DIR = r\"/home/larleyt/fl/ML/VirtualFactory/data collection\"\n",
    "ROOT_DIR_CSV = r\"/home/larleyt/fl/ML/VirtualFactory/data collection/CSVs\"\n",
    "OUTPUT_JOURNALS_PATH = ROOT_DIR + r\"/CSVs/Journals\"\n",
    "OUTPUT_PLANS_PATH = ROOT_DIR + r\"/CSVs/Plans\"\n",
    "\n",
    "plan_file_path = r\"/home/larleyt/fl/ML/VirtualFactory/data collection/CSVs/Plans/parsed_План.csv\"\n",
    "df = preprocess_data(plan_file_path)\n",
    "# plot_plan(plan_file_path)\n",
    "# find_files(ROOT_DIR + \"/Plans\", u\"план 2012-16\")"
   ]
  },
  {
   "cell_type": "code",
   "execution_count": 101,
   "metadata": {},
   "outputs": [],
   "source": [
    ""
   ]
  },
  {
   "cell_type": "code",
   "execution_count": null,
   "metadata": {},
   "outputs": [],
   "source": [
    ""
   ]
  }
 ],
 "metadata": {
  "kernelspec": {
   "display_name": "Python 2",
   "language": "python",
   "name": "python2"
  },
  "language_info": {
   "codemirror_mode": {
    "name": "ipython",
    "version": 2.0
   },
   "file_extension": ".py",
   "mimetype": "text/x-python",
   "name": "python",
   "nbconvert_exporter": "python",
   "pygments_lexer": "ipython2",
   "version": "2.7.6"
  }
 },
 "nbformat": 4,
 "nbformat_minor": 0
}