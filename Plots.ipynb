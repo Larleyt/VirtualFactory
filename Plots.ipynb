{
 "cells": [
  {
   "cell_type": "code",
   "execution_count": 18,
   "metadata": {
    "collapsed": true
   },
   "outputs": [],
   "source": [
    "# coding=utf-8\n",
    "\n",
    "import os\n",
    "import pandas as pd\n",
    "import numpy as np\n",
    "import seaborn as sns"
   ]
  },
  {
   "cell_type": "code",
   "execution_count": 19,
   "metadata": {},
   "outputs": [],
   "source": [
    "def find_files(root_dir=None, prefix=None):\n",
    "    file_paths = []\n",
    "    \n",
    "    for root, dirs, files in os.walk(root_dir):\n",
    "        for name in files:\n",
    "            if name.decode(\"utf-8\").lower().startswith(prefix.lower()):\n",
    "                file_paths.append(os.path.join(root, name))\n",
    "    return file_paths"
   ]
  },
  {
   "cell_type": "code",
   "execution_count": 124,
   "metadata": {},
   "outputs": [],
   "source": [
    "def plot_plan(fpath):\n",
    "    df = pd.read_csv(\n",
    "        fpath, \n",
    "        header=[0,1,2], \n",
    "        index_col=0, \n",
    "        sep=\"\\t\"\n",
    "    )\n",
    "    grouped_by_order = df.groupby([('Заказ')], level=0)# [('подг.вр','маш.вр'),].mean()\n"
   ]
  },
  {
   "cell_type": "code",
   "execution_count": 125,
   "metadata": {},
   "outputs": [],
   "source": [
    "ROOT_DIR = r\"/home/larleyt/fl/ML/VirtualFactory/data collection\"\n",
    "ROOT_DIR_CSV = r\"/home/larleyt/fl/ML/VirtualFactory/data collection/CSVs\"\n",
    "OUTPUT_JOURNALS_PATH = ROOT_DIR + r\"/CSVs/Journals\"\n",
    "OUTPUT_PLANS_PATH = ROOT_DIR + r\"/CSVs/Plans\"\n",
    "\n",
    "plan_file_path = r\"/home/larleyt/fl/ML/VirtualFactory/data collection/CSVs/Plans/План 2012-16_new.csv\" \n",
    "plot_plan(plan_file_path)\n",
    "# find_files(ROOT_DIR + \"/Plans\", u\"план 2012-16\")"
   ]
  },
  {
   "cell_type": "code",
   "execution_count": 126,
   "metadata": {},
   "outputs": [],
   "source": [
    ""
   ]
  },
  {
   "cell_type": "code",
   "execution_count": 126,
   "metadata": {},
   "outputs": [],
   "source": [
    ""
   ]
  },
  {
   "cell_type": "code",
   "execution_count": null,
   "outputs": [],
   "source": [
    ""
   ]
  }
 ],
 "metadata": {
  "kernelspec": {
   "display_name": "Python 2",
   "language": "python",
   "name": "python2"
  },
  "language_info": {
   "codemirror_mode": {
    "name": "ipython",
    "version": 2.0
   },
   "file_extension": ".py",
   "mimetype": "text/x-python",
   "name": "python",
   "nbconvert_exporter": "python",
   "pygments_lexer": "ipython2",
   "version": "2.7.6"
  }
 },
 "nbformat": 4,
 "nbformat_minor": 0
}